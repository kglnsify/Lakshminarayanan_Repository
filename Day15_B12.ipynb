{
 "cells": [
  {
   "cell_type": "code",
   "execution_count": 48,
   "metadata": {},
   "outputs": [],
   "source": [
    "#how to define a constructor\n",
    "class Dog:\n",
    "    \"\"\"A Simple Attempt to model a dog\"\"\"\n",
    "    def __init__(self,name,age):\n",
    "        self.name = name\n",
    "        self.age = age\n",
    "        print(\"INIT Successfully Executed\")\n",
    "         \n",
    "    def sit(self):\n",
    "        \"\"\"Simulate a dog sitting in respose for a command\"\"\"\n",
    "        print(f\"{self.name} is not sitting\")\n",
    "    \n",
    "    def roll_over(self):\n",
    "        \"\"\"Simulate a dog rollover in response to a command\"\"\"\n",
    "        print(f\"{self.name} rolled over!\")\n",
    "    \n",
    "    "
   ]
  },
  {
   "cell_type": "code",
   "execution_count": 51,
   "metadata": {},
   "outputs": [
    {
     "name": "stdout",
     "output_type": "stream",
     "text": [
      "INIT Successfully Executed\n",
      "Raja is not sitting\n",
      "Raja rolled over!\n"
     ]
    }
   ],
   "source": [
    "obj = Dog('Raja',4)\n",
    "obj.sit()\n",
    "obj.roll_over()\n",
    "\n"
   ]
  },
  {
   "cell_type": "code",
   "execution_count": 57,
   "metadata": {},
   "outputs": [
    {
     "name": "stdout",
     "output_type": "stream",
     "text": [
      "('Olives', 'Mushroom', 'Corn')\n"
     ]
    }
   ],
   "source": [
    "#Introduction to passing arbitary num of arguments\n",
    "def make_pizza(*toppings):\n",
    "    print(toppings)\n",
    "make_pizza('Olives','Mushroom','Corn')"
   ]
  },
  {
   "cell_type": "code",
   "execution_count": null,
   "metadata": {},
   "outputs": [],
   "source": []
  },
  {
   "cell_type": "code",
   "execution_count": null,
   "metadata": {},
   "outputs": [],
   "source": []
  },
  {
   "cell_type": "code",
   "execution_count": null,
   "metadata": {},
   "outputs": [],
   "source": []
  },
  {
   "cell_type": "code",
   "execution_count": null,
   "metadata": {},
   "outputs": [],
   "source": []
  },
  {
   "cell_type": "code",
   "execution_count": null,
   "metadata": {},
   "outputs": [],
   "source": []
  },
  {
   "cell_type": "code",
   "execution_count": null,
   "metadata": {},
   "outputs": [],
   "source": []
  }
 ],
 "metadata": {
  "kernelspec": {
   "display_name": "Python 3",
   "language": "python",
   "name": "python3"
  },
  "language_info": {
   "codemirror_mode": {
    "name": "ipython",
    "version": 3
   },
   "file_extension": ".py",
   "mimetype": "text/x-python",
   "name": "python",
   "nbconvert_exporter": "python",
   "pygments_lexer": "ipython3",
   "version": "3.7.4"
  }
 },
 "nbformat": 4,
 "nbformat_minor": 2
}
