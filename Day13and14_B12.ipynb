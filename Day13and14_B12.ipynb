{
 "cells": [
  {
   "cell_type": "code",
   "execution_count": 7,
   "metadata": {},
   "outputs": [
    {
     "name": "stdout",
     "output_type": "stream",
     "text": [
      "Animal type dog Petname  Raja\n"
     ]
    }
   ],
   "source": [
    "def desc_pet(pet_name, animal_type='dog'):\n",
    "    print(f\"Animal type {animal_type} Petname \", pet_name)\n",
    "\n",
    "desc_pet('Raja')\n",
    "\n",
    "    "
   ]
  },
  {
   "cell_type": "code",
   "execution_count": 9,
   "metadata": {},
   "outputs": [
    {
     "data": {
      "text/plain": [
       "'Lakshmi G'"
      ]
     },
     "execution_count": 9,
     "metadata": {},
     "output_type": "execute_result"
    }
   ],
   "source": [
    "def get_formatted_name(fname,lname):\n",
    "    \"\"\"Returns a Full name neatly formatted\"\"\"\n",
    "    fullname=f\"{fname} {lname}\"\n",
    "    return fullname.title()\n",
    "\n",
    "get_formatted_name('Lakshmi','G')"
   ]
  },
  {
   "cell_type": "code",
   "execution_count": null,
   "metadata": {},
   "outputs": [],
   "source": [
    "#Class"
   ]
  },
  {
   "cell_type": "code",
   "execution_count": 16,
   "metadata": {},
   "outputs": [
    {
     "name": "stdout",
     "output_type": "stream",
     "text": [
      "Hello, Welcome Back Nana\n"
     ]
    }
   ],
   "source": [
    "class Name:\n",
    "    def createname(self,user):\n",
    "        self.user=user\n",
    "    def display(self):\n",
    "        return self.user\n",
    "    def greeting(self):\n",
    "        print(f\"Hello, Welcome Back {self.user}\")\n",
    "    \n",
    "abc = Name()\n",
    "abc.createname('Nana')\n",
    "abc.display()\n",
    "abc.greeting()\n"
   ]
  },
  {
   "cell_type": "code",
   "execution_count": 24,
   "metadata": {},
   "outputs": [
    {
     "data": {
      "text/plain": [
       "'I am Variable 2'"
      ]
     },
     "execution_count": 24,
     "metadata": {},
     "output_type": "execute_result"
    }
   ],
   "source": [
    "class parent:\n",
    "    var1 = 'I am Variable 1'\n",
    "    var2 = 'I am Variable 2'\n",
    "    \n",
    "obj=parent()\n",
    "obj.var1\n",
    "obj.var2"
   ]
  },
  {
   "cell_type": "code",
   "execution_count": 27,
   "metadata": {},
   "outputs": [
    {
     "data": {
      "text/plain": [
       "'I am Variable 1'"
      ]
     },
     "execution_count": 27,
     "metadata": {},
     "output_type": "execute_result"
    }
   ],
   "source": [
    "#Inheritance\n",
    "class child(parent):\n",
    "    pass #do nothing\n",
    "cobj=child()\n",
    "\n",
    "cobj.var1"
   ]
  },
  {
   "cell_type": "code",
   "execution_count": 31,
   "metadata": {},
   "outputs": [
    {
     "data": {
      "text/plain": [
       "'Hey! I am child'"
      ]
     },
     "execution_count": 31,
     "metadata": {},
     "output_type": "execute_result"
    }
   ],
   "source": [
    "#How to inherit multiple parent classes\n",
    "class mom:\n",
    "    test1 = 'Hey! I am Mom'\n",
    "class dad:\n",
    "    test2 = 'Hey! I am Dad'\n",
    "class child(mom,dad):\n",
    "    test3 = 'Hey! I am child'\n",
    "    \n",
    "obj1=child()\n",
    "obj1.test1\n",
    "obj1.test2\n",
    "obj1.test3\n"
   ]
  },
  {
   "cell_type": "code",
   "execution_count": null,
   "metadata": {},
   "outputs": [],
   "source": []
  },
  {
   "cell_type": "code",
   "execution_count": null,
   "metadata": {},
   "outputs": [],
   "source": []
  },
  {
   "cell_type": "code",
   "execution_count": null,
   "metadata": {},
   "outputs": [],
   "source": []
  },
  {
   "cell_type": "code",
   "execution_count": null,
   "metadata": {},
   "outputs": [],
   "source": []
  }
 ],
 "metadata": {
  "kernelspec": {
   "display_name": "Python 3",
   "language": "python",
   "name": "python3"
  },
  "language_info": {
   "codemirror_mode": {
    "name": "ipython",
    "version": 3
   },
   "file_extension": ".py",
   "mimetype": "text/x-python",
   "name": "python",
   "nbconvert_exporter": "python",
   "pygments_lexer": "ipython3",
   "version": "3.7.4"
  }
 },
 "nbformat": 4,
 "nbformat_minor": 2
}
