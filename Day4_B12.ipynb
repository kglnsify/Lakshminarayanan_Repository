{
 "cells": [
  {
   "cell_type": "code",
   "execution_count": 4,
   "metadata": {},
   "outputs": [
    {
     "name": "stdout",
     "output_type": "stream",
     "text": [
      "nana\n",
      "akshaaj\n"
     ]
    }
   ],
   "source": [
    "#List\n",
    "students=['nana','jananee','akshaaj']\n",
    "print(students[0])\n",
    "print(students[2])"
   ]
  },
  {
   "cell_type": "code",
   "execution_count": 5,
   "metadata": {},
   "outputs": [
    {
     "name": "stdout",
     "output_type": "stream",
     "text": [
      "['nana', 'jananee', 'akshaaj', 'kgln']\n"
     ]
    }
   ],
   "source": [
    "#add elements in list\n",
    "students.append('kgln')\n",
    "print(students)"
   ]
  },
  {
   "cell_type": "code",
   "execution_count": 8,
   "metadata": {},
   "outputs": [
    {
     "name": "stdout",
     "output_type": "stream",
     "text": [
      "['nana', 'nana1', 'akshaaj', 'Akshaaj1', 'kgln']\n",
      "['nana', 'Akshaaj1', 'nana1', 'akshaaj', 'Akshaaj1', 'kgln']\n"
     ]
    }
   ],
   "source": [
    "#to add a new student in index 1\n",
    "students[1] = 'nana1'\n",
    "print(students)\n",
    "students.insert(1,'Akshaaj1')\n",
    "print(students)"
   ]
  },
  {
   "cell_type": "code",
   "execution_count": 10,
   "metadata": {},
   "outputs": [
    {
     "name": "stdout",
     "output_type": "stream",
     "text": [
      "['nana', 'akshaaj', 'Akshaaj1', 'kgln']\n"
     ]
    }
   ],
   "source": [
    "#remove name from list\n",
    "del students[1]\n",
    "print(students)"
   ]
  },
  {
   "cell_type": "code",
   "execution_count": 11,
   "metadata": {},
   "outputs": [
    {
     "data": {
      "text/plain": [
       "'kgln'"
      ]
     },
     "execution_count": 11,
     "metadata": {},
     "output_type": "execute_result"
    }
   ],
   "source": [
    "students.pop()"
   ]
  },
  {
   "cell_type": "code",
   "execution_count": 12,
   "metadata": {},
   "outputs": [
    {
     "name": "stdout",
     "output_type": "stream",
     "text": [
      "['Akshaaj1', 'akshaaj', 'nana']\n"
     ]
    }
   ],
   "source": [
    "#List Asc order\n",
    "students.sort()\n",
    "print(students)"
   ]
  },
  {
   "cell_type": "code",
   "execution_count": 14,
   "metadata": {},
   "outputs": [
    {
     "name": "stdout",
     "output_type": "stream",
     "text": [
      "['Akshaaj1', 'Jananee', 'akshaaj', 'nana']\n"
     ]
    }
   ],
   "source": [
    "#Temp sort\n",
    "students.insert(2,'Jananee')\n",
    "print(sorted(students))  First starting with Capital and then lowercase"
   ]
  }
 ],
 "metadata": {
  "kernelspec": {
   "display_name": "Python 3",
   "language": "python",
   "name": "python3"
  },
  "language_info": {
   "codemirror_mode": {
    "name": "ipython",
    "version": 3
   },
   "file_extension": ".py",
   "mimetype": "text/x-python",
   "name": "python",
   "nbconvert_exporter": "python",
   "pygments_lexer": "ipython3",
   "version": "3.7.4"
  }
 },
 "nbformat": 4,
 "nbformat_minor": 2
}
