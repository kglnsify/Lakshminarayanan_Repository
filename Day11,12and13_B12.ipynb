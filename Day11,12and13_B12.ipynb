{
 "cells": [
  {
   "cell_type": "code",
   "execution_count": 4,
   "metadata": {},
   "outputs": [
    {
     "name": "stdout",
     "output_type": "stream",
     "text": [
      "['Venki', 'Akshaaj', 'Jananee']\n",
      "['Akshaaj', 'Jananee', 'Venki']\n",
      "['Venki', 'Jananee', 'Akshaaj']\n"
     ]
    }
   ],
   "source": [
    "#Sort\n",
    "mystudents = ['Venki', 'Akshaaj', 'Jananee']\n",
    "print(mystudents)\n",
    "mystudents.sort()\n",
    "print(mystudents)\n",
    "mystudents.reverse()\n",
    "print(mystudents)"
   ]
  },
  {
   "cell_type": "code",
   "execution_count": 13,
   "metadata": {},
   "outputs": [
    {
     "name": "stdout",
     "output_type": "stream",
     "text": [
      "['cherry', 'orange', 'kiwi']\n",
      "['apple', 'banana', 'cherry', 'orange']\n",
      "['cherry', 'orange', 'kiwi', 'melon', 'mango']\n",
      "['orange', 'kiwi', 'melon']\n"
     ]
    }
   ],
   "source": [
    "thislist = [\"apple\", \"banana\", \"cherry\", \"orange\", \"kiwi\", \"melon\", \"mango\"]\n",
    "print(thislist[2:5])\n",
    "print(thislist[:4])\n",
    "print(thislist[2:])\n",
    "print(thislist[-4:-1])"
   ]
  },
  {
   "cell_type": "code",
   "execution_count": 18,
   "metadata": {},
   "outputs": [
    {
     "name": "stdout",
     "output_type": "stream",
     "text": [
      "3\n",
      "\n",
      "abc :apple\n",
      "\n",
      "abc :banana\n",
      "\n",
      "abc :cherry\n"
     ]
    }
   ],
   "source": [
    "thislist = [\"apple\", \"banana\", \"cherry\"]\n",
    "print(len(thislist))\n",
    "for x in thislist:\n",
    "  print(f\"\\nabc :{x}\")"
   ]
  },
  {
   "cell_type": "code",
   "execution_count": 21,
   "metadata": {},
   "outputs": [
    {
     "name": "stdout",
     "output_type": "stream",
     "text": [
      "1\n",
      "2\n",
      "3\n",
      "4\n",
      "5\n"
     ]
    }
   ],
   "source": [
    "#while loop\n",
    "current_num=1\n",
    "while current_num <=5:\n",
    "    print(current_num)\n",
    "    current_num = current_num+1"
   ]
  },
  {
   "cell_type": "code",
   "execution_count": 22,
   "metadata": {},
   "outputs": [
    {
     "name": "stdout",
     "output_type": "stream",
     "text": [
      "---Function Started---\n",
      "Hello\n",
      "---Function Ended\n"
     ]
    }
   ],
   "source": [
    "#Functions --Code Reusability\n",
    "def func():\n",
    "    print(\"---Function Started---\")\n",
    "    print(\"Hello\")\n",
    "    print(\"---Function Ended\")\n",
    "    \n",
    "func()"
   ]
  },
  {
   "cell_type": "code",
   "execution_count": 23,
   "metadata": {},
   "outputs": [
    {
     "name": "stdout",
     "output_type": "stream",
     "text": [
      "---Function Started---\n",
      "Hello\n",
      "---Function Ended\n"
     ]
    }
   ],
   "source": [
    "func()"
   ]
  },
  {
   "cell_type": "code",
   "execution_count": 26,
   "metadata": {},
   "outputs": [
    {
     "name": "stdout",
     "output_type": "stream",
     "text": [
      "Jaanu\n"
     ]
    }
   ],
   "source": [
    "\n",
    "def func1(username):\n",
    "    print(username)\n",
    "    \n",
    "\n",
    "func1(\"Jaanu\")"
   ]
  },
  {
   "cell_type": "code",
   "execution_count": 32,
   "metadata": {},
   "outputs": [
    {
     "name": "stdout",
     "output_type": "stream",
     "text": [
      "I have Dog name Raja\n"
     ]
    }
   ],
   "source": [
    "def twoparameters(animal_type,petname):\n",
    "    print(f\"I have {animal_type} name {petname}\")\n",
    "    \n",
    "twoparameters(\"Dog\",\"Raja\")"
   ]
  },
  {
   "cell_type": "code",
   "execution_count": null,
   "metadata": {},
   "outputs": [],
   "source": []
  },
  {
   "cell_type": "code",
   "execution_count": null,
   "metadata": {},
   "outputs": [],
   "source": []
  },
  {
   "cell_type": "code",
   "execution_count": null,
   "metadata": {},
   "outputs": [],
   "source": []
  }
 ],
 "metadata": {
  "kernelspec": {
   "display_name": "Python 3",
   "language": "python",
   "name": "python3"
  },
  "language_info": {
   "codemirror_mode": {
    "name": "ipython",
    "version": 3
   },
   "file_extension": ".py",
   "mimetype": "text/x-python",
   "name": "python",
   "nbconvert_exporter": "python",
   "pygments_lexer": "ipython3",
   "version": "3.7.4"
  }
 },
 "nbformat": 4,
 "nbformat_minor": 2
}
